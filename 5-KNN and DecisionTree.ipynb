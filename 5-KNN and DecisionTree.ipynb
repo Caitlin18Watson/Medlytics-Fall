Here’s a transformed version of your lecture content into a `.ipynb` (Jupyter Notebook) structure. You can copy this structure into a new Jupyter Notebook and add each section as cells.

---

```json
{
 "cells": [
  {
   "cell_type": "markdown",
   "metadata": {},
   "source": [
    "# Intro to KNN, Decision Trees, and Healthcare Challenges"
   ]
  },
  {
   "cell_type": "markdown",
   "metadata": {},
   "source": [
    "## Goal of the Session\n",
    "\n",
    "Introduce machine learning basics and how they can apply to healthcare. By the end of this session, students should understand:\n",
    "- What KNN (K-Nearest Neighbors) and Decision Trees are.\n",
    "- How these algorithms can be used in healthcare (predicting disease, diagnosing conditions).\n",
    "- The real-world challenges of using machine learning in healthcare."
   ]
  },
  {
   "cell_type": "markdown",
   "metadata": {},
   "source": [
    "## 1. Introduction to K-Nearest Neighbors (KNN)\n",
    "\n",
    "### 1.1 What is K-Nearest Neighbors?\n",
    "\n",
    "Imagine you want to figure out what sport someone plays based on how similar they are to others. If three of your friends play soccer, and all have similar skills, you can assume a new friend with similar skills probably plays soccer too. This is the basic idea of KNN.\n",
    "\n",
    "**KNN in One Sentence:**\n",
    "\n",
    "KNN is a way for computers to make predictions by finding examples that are most similar to what they are trying to predict."
   ]
  },
  {
   "cell_type": "markdown",
   "metadata": {},
   "source": [
    "### 1.2 How KNN Works\n",
    "\n",
    "1. Look at all the examples the computer has seen before (these are called “neighbors”).\n",
    "2. For each new data point, find the closest neighbors based on similarity.\n",
    "    - Example: To predict if a new patient has a disease, the model will look at past patients with similar characteristics (like age, blood pressure).\n",
    "3. Decide the most common outcome (or class) among these neighbors and use that as the prediction.\n",
    "\n",
    "#### Visualizing KNN"
   ]
  },
  {
   "cell_type": "code",
   "metadata": {},
   "source": [
    "import matplotlib.pyplot as plt\n",
    "from sklearn.datasets import make_blobs\n",
    "from sklearn.neighbors import KNeighborsClassifier\n",
    "\n",
    "# Create some data points\n",
    "X, y = make_blobs(n_samples=100, centers=2, random_state=6)\n",
    "\n",
    "# Plot data points\n",
    "plt.scatter(X[:, 0], X[:, 1], c=y, cmap='coolwarm', marker='o', edgecolor='k')\n",
    "plt.xlabel(\"Feature 1\")\n",
    "plt.ylabel(\"Feature 2\")\n",
    "plt.title(\"Simple Data for KNN\")\n",
    "plt.show()"
   ]
  },
  {
   "cell_type": "markdown",
   "metadata": {},
   "source": [
    "**Discussion:** What do you notice about the data? Which points are close to each other?"
   ]
  },
  {
   "cell_type": "markdown",
   "metadata": {},
   "source": [
    "### Guided Exercise: Predicting a New Point\n",
    "\n",
    "- **Question:** If we add a new data point, what points should it be compared to? How would you predict its class?\n",
    "- **Goal:** Let students decide which points are closest, then explain that KNN does this calculation automatically."
   ]
  },
  {
   "cell_type": "markdown",
   "metadata": {},
   "source": [
    "## 2. Building KNN for a Healthcare Example\n",
    "\n",
    "**Scenario:** We want to predict if a patient is at risk for a disease based on two features: cholesterol level and age."
   ]
  },
  {
   "cell_type": "code",
   "metadata": {},
   "source": [
    "from sklearn.neighbors import KNeighborsClassifier\n",
    "import numpy as np\n",
    "\n",
    "# Patient data: [Age, Cholesterol Level]\n",
    "X_health = np.array([[25, 180], [45, 200], [35, 190], [55, 220], [60, 230]])\n",
    "y_health = np.array([0, 1, 0, 1, 1])  # 0 = low risk, 1 = high risk\n",
    "\n",
    "# Define the KNN model\n",
    "knn = KNeighborsClassifier(n_neighbors=3)\n",
    "\n",
    "# Train the model\n",
    "knn.fit(X_health, y_health)\n",
    "\n",
    "# Predict for a new patient with age 40 and cholesterol level 210\n",
    "new_patient = np.array([[40, 210]])\n",
    "prediction = knn.predict(new_patient)\n",
    "\n",
    "print(f\"Prediction for new patient: {'High risk' if prediction[0] == 1 else 'Low risk'}\")"
   ]
  },
  {
   "cell_type": "markdown",
   "metadata": {},
   "source": [
    "This code predicts if a new patient is high or low risk based on the closest three neighbors."
   ]
  },
  {
   "cell_type": "markdown",
   "metadata": {},
   "source": [
    "## 3. Introduction to Decision Trees\n",
    "\n",
    "### 3.1 What is a Decision Tree?\n",
    "\n",
    "Imagine a Game of 20 Questions: Each question you ask narrows down the possibilities until you guess the correct answer. Decision Trees work similarly by splitting data into categories at each \"question\" or \"node.\""
   ]
  },
  {
   "cell_type": "markdown",
   "metadata": {},
   "source": [
    "**Decision Trees in Simple Terms:** Each “question” splits data based on the best characteristic (e.g., “Is age over 50?”) and repeats until it reaches a decision."
   ]
  },
  {
   "cell_type": "code",
   "metadata": {},
   "source": [
    "from sklearn.tree import DecisionTreeClassifier\n",
    "\n",
    "# Simple dataset: [Fever, Cough, Fatigue]\n",
    "X_health = np.array([[1, 0, 1], [1, 1, 0], [0, 0, 1], [1, 1, 1], [0, 1, 0]])\n",
    "y_health = np.array([1, 1, 0, 1, 0])  # 1 = Disease, 0 = No disease\n",
    "\n",
    "# Define Decision Tree model\n",
    "dt = DecisionTreeClassifier()\n",
    "\n",
    "# Train the model\n",
    "dt.fit(X_health, y_health)\n",
    "\n",
    "# Test a new patient with symptoms: Fever, Cough, Fatigue\n",
    "new_patient = np.array([[1, 1, 0]])\n",
    "prediction = dt.predict(new_patient)\n",
    "\n",
    "print(f\"Prediction for new patient: {'Has disease' if prediction[0] == 1 else 'No disease'}\")"
   ]
  },
  {
   "cell_type": "markdown",
   "metadata": {},
   "source": [
    "Decision Trees split data into “Yes” or “No” questions until reaching a diagnosis."
   ]
  },
  {
   "cell_type": "markdown",
   "metadata": {},
   "source": [
    "## 4. Challenges in Applying Machine Learning to Healthcare\n",
    "\n",
    "### 4.1 Key Challenges\n",
    "\n",
    "- **Privacy and Ethics:** Patient data is private, so using it requires strict guidelines.\n",
    "    - **Example Question:** What might happen if patient data is shared without permission?\n",
    "- **Data Imbalance:** In some diseases, we have very few cases compared to healthy patients.\n",
    "    - **Example Question:** If only 5 out of 100 patients have a rare disease, what issues might this cause?\n"
   ]
  },
  {
   "cell_type": "markdown",
   "metadata": {},
   "source": [
    "### 4.2 Real-World Impact and Responsibility\n",
    "\n",
    "- **How would you feel if a machine learning model wrongly diagnosed a patient?**\n",
    "- **Patient Trust and Responsibility:** How should healthcare professionals handle cases where an AI model makes a mistake?\n",
    "- **Bias in Healthcare Algorithms:** What happens if an AI model is trained on data mostly representing one group?\n",
    "- **Data Privacy and Consent:** Would you feel comfortable knowing your health data was used to train an AI?\n",
    "- **Transparency and Trust in AI Decisions:** Should patients understand how AI models reach diagnoses?\n"
   ]
  }
 ],
 "metadata
