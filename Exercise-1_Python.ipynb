{
 "cells": [
  {
   "cell_type": "markdown",
   "id": "42c06b64",
   "metadata": {},
   "source": [
    "# Medlytics Fall 2024: Exercise-1: Python"
   ]
  },
  {
   "cell_type": "markdown",
   "id": "ff805d67",
   "metadata": {},
   "source": [
    "## Q1. Calculator Program\n",
    "Let's write a program, that will act as a calculator. There will be a menu, that will ask you whether you want to multiply two numbers together, add two numbers together, divide one number by another, or subtract one number from another. Only problem - the `input` function returns what you type in as a string - we want the number 1, not the letter 1 (and yes, in Python, there is a difference).\n",
    "\n",
    "Luckily, somebody wrote the function `eval`, which returns what you typed in, to the main program - but this time, it puts it in as a number. If you type an integer (a whole number), what comes out of input is an integer. And if you put that integer into a variable, the variable will be an integer-type variable, which means you can add and subtract, etc."
   ]
  },
  {
   "cell_type": "code",
   "execution_count": null,
   "id": "5dd12726",
   "metadata": {},
   "outputs": [],
   "source": [
    "# this line makes 'a' equal to the value that you type. It doesn't accept strings\n",
    "a = eval(input(\"Type in something, and it will be repeated on screen: \"))\n",
    "# this line prints what 'a' is now worth\n",
    "print(a)"
   ]
  },
  {
   "cell_type": "markdown",
   "id": "42360f8f",
   "metadata": {},
   "source": [
    "Now, let's design this calculator properly. We want a menu that is returned to every time you finish adding, subtracting, etc. In other words, to loop (HINT!!!) while (BIG HINT!!!) you tell it the program should still run.\n",
    "We want it to do an option in the menu if you type in that number. That involves you typing in a number (a.k.a. input) and an `if` loop.<br>\n",
    "Let's write it out in understandable English first (pseudocode):\n",
    "\n",
    "```\n",
    "START PROGRAM\n",
    "print opening message\n",
    "\n",
    "while we let the program run, do this:\n",
    "    #Print what options you have\n",
    "    print Option 1 - add\n",
    "    print Option 2 - subtract\n",
    "    print Option 3 - multiply\n",
    "    print Option 4 - divide\n",
    "    print Option 5 - quit program\n",
    "\n",
    "    ask for which option it is you want\n",
    "    if it is option 1:\n",
    "        ask for first number\n",
    "        ask for second number\n",
    "        add them together\n",
    "        print the result onscreen\n",
    "    if it is option 2:\n",
    "        ask for first number\n",
    "        ask for second number\n",
    "        subtract one from the other\n",
    "        print the result onscreen\n",
    "    if it is option 3:\n",
    "        ask for first number\n",
    "        ask for second number\n",
    "        multiply!\n",
    "        print the result onscreen\n",
    "    if it is option 4:\n",
    "        ask for first number\n",
    "        ask for second number\n",
    "        divide one by the other\n",
    "        print the result onscreen\n",
    "    if it is option 5:\n",
    "        tell the loop to stop looping\n",
    "Print onscreen a goodbye message\n",
    "END PROGRAM\n",
    "```\n",
    "Let's put this in something that Python can understand!\n",
    "\n",
    "\n",
    "## Instructions\n",
    "\n",
    "### 1. Fill in the Menu Options:\n",
    "- Replace each `### fill in code here ###` in the menu with the name of the arithmetic operation.\n",
    "    - Example: `print(\"1. Addition\")`\n",
    "\n",
    "### 2. Implement Each Arithmetic Operation:\n",
    "\n",
    "- **Addition (choice == 1):**\n",
    "    - Prompt the user for two numbers.\n",
    "    - Calculate the sum.\n",
    "    - Display the result.\n",
    "\n",
    "- **Subtraction (choice == 2):**\n",
    "    - Prompt the user for two numbers.\n",
    "    - Calculate the difference.\n",
    "    - Display the result.\n",
    "\n",
    "- **Multiplication (choice == 3):**\n",
    "    - Prompt the user for two numbers.\n",
    "    - Calculate the product.\n",
    "    - Display the result.\n",
    "\n",
    "- **Division (choice == 4):**\n",
    "    - Prompt the user for two numbers.\n",
    "    - **Important:** Add error handling for division by zero.\n",
    "    - Calculate the quotient.\n",
    "    - Display the result.\n",
    "\n",
    "### 3. Handle Exiting the Program:\n",
    "- When the user selects option 5, set `loop` to `0` to exit the `while` loop.\n",
    "\n",
    "---\n",
    "\n",
    "## Test Your Program\n",
    "\n",
    "- Run the program after filling in the code.\n",
    "- Test each operation to ensure it's working correctly.\n",
    "- Make sure the program exits when you choose option 5.\n",
    "\n",
    "---\n",
    "\n",
    "## Example for Addition (to guide you):\n",
    "\n",
    "```python\n",
    "if choice == 1:\n",
    "    num1 = eval(input(\"Enter the first number: \"))\n",
    "    num2 = eval(input(\"Enter the second number: \"))\n",
    "    result = num1 + num2\n",
    "    print(num1, \"+\", num2, \"=\", result)"
   ]
  },
  {
   "cell_type": "code",
   "execution_count": null,
   "id": "25bd2b8e",
   "metadata": {},
   "outputs": [],
   "source": [
    "# This variable tells the loop whether it should continue or not.\n",
    "loop = 1\n",
    "\n",
    "# This variable holds the user's choice in the menu.\n",
    "choice = 0\n",
    "\n",
    "while loop == 1:\n",
    "    # Print the menu options.\n",
    "    print(\"Welcome to calculator.py\")\n",
    "    print(\"Your options are:\")\n",
    "    print(\" \")\n",
    "    print(\"1. ### fill in option here ###\")  # e.g., \"Addition\"\n",
    "    print(\"2. ### fill in option here ###\")\n",
    "    print(\"3. ### fill in option here ###\")\n",
    "    print(\"4. ### fill in option here ###\")\n",
    "    print(\"5. Quit calculator.py\")\n",
    "    print(\" \")\n",
    "    \n",
    "    # Get the user's choice.\n",
    "    choice = eval(input(\"Choose your option: \"))\n",
    "    \n",
    "    if choice == 1:\n",
    "        ### fill in code here ###\n",
    "        # Hint: Get two numbers from the user and perform addition.\n",
    "        # Example:\n",
    "        # num1 = eval(input(\"Enter first number: \"))\n",
    "        # num2 = eval(input(\"Enter second number: \"))\n",
    "        # print(\"Result:\", num1 + num2)\n",
    "        pass\n",
    "    elif choice == 2:\n",
    "        ### fill in code here ###\n",
    "        # Hint: Get two numbers and perform subtraction.\n",
    "        pass\n",
    "    elif choice == 3:\n",
    "        ### fill in code here ###\n",
    "        # Hint: Get two numbers and perform multiplication.\n",
    "        pass\n",
    "    elif choice == 4:\n",
    "        ### fill in code here ###\n",
    "        # Hint: Get two numbers and perform division.\n",
    "        # Don't forget to handle division by zero!\n",
    "        pass\n",
    "    elif choice == 5:\n",
    "        ### fill in code here ###\n",
    "        # Hint: Set the loop variable to 0 to exit the loop.\n",
    "        pass\n",
    "    else:\n",
    "        print(\"Invalid choice, please select a valid option.\")\n",
    "        \n",
    "# Thank the user for using the program.\n",
    "print(\"Thank you for using calculator.py!\")\n"
   ]
  },
  {
   "cell_type": "markdown",
   "id": "9ba339ba",
   "metadata": {},
   "source": [
    "Play around with it - try all options, entering in integers (numbers without decimal points), and numbers with stuff after the decimal point (known in programming as a floating point). Try typing in text, and see how the program chucks a minor fit, and stops running (that can be dealt with, using error handling, which we can address later)."
   ]
  },
  {
   "cell_type": "markdown",
   "id": "baf8b40a",
   "metadata": {},
   "source": [
    "### Define Your Own Functions\n",
    "In the tutorial, we saw how the `def` operator can be used to define our own functions. In order to make our calculator program less messy, let's rewrite it with functions. Before start, let's get a good look at how functions work\n",
    "(An operator is just something that tells Python what to do, e.g. the `+` operator tells Python to add things, the `if` operator tells Python to do something if conditions are met.)\n",
    "\n",
    "This is how the `def` operator works:\n",
    "\n",
    "```\n",
    "def function_name(parameter_1,parameter_2):\n",
    "    {this is the code in the function}\n",
    "    {more code}\n",
    "    {more code}\n",
    "    return {value to return to the main program}\n",
    "{this code isn't in the function}\n",
    "{because it isn't indented}\n",
    "#remember to put a colon \":\" at the end\n",
    "#of the line that starts with 'def'\n",
    "```\n"
   ]
  },
  {
   "cell_type": "markdown",
   "id": "15232e23",
   "metadata": {},
   "source": [
    "`function_name` is the name of the function. You write the code that is in the function below that line, and have it indented. (We will worry about `parameter_1` and `parameter_2` later, for now imagine there is nothing between the parentheses.\n",
    "\n",
    "Functions run completely independent of the main program. Remember when I said that when the computer comes to a function, it doesn't see the function, but a value, that the function returns? Here's the quote:\n",
    "\n",
    "To the computer, the variable 'a' doesn't look like 'a' - it looks like the value that is stored inside it. Functions are similar - to the main program (that is, the program that is running the function), they look like the value of what they give in return of running."
   ]
  },
  {
   "cell_type": "markdown",
   "id": "aefc2f8f",
   "metadata": {},
   "source": [
    "A function is like a miniature program that some parameters are given to - it then runs itself, and then returns a value. Your main program sees only the returned value. If that function flew to the moon and back, and then at the end had:\n",
    "\n",
    "`return \"hello\"`\n",
    "\n",
    "then all your program would see is the string `\"hello\"`, where the name of the function was. It would have no idea what else the program did.\n",
    "\n",
    "Because it is a separate program, a function doesn't see any of the variables that are in your main program, and your main program doesn't see any of the variables that are in a function. For example, here is a function that prints the words `\"hello\"` onscreen, and then returns the number `'1234'` to the main program:"
   ]
  },
  {
   "cell_type": "code",
   "execution_count": null,
   "id": "69e6cad9",
   "metadata": {},
   "outputs": [],
   "source": [
    "# Below is the function\n",
    "def hello():\n",
    "    print(\"hello\")\n",
    "    return 1234\n",
    "\n",
    "# And here is the function being used\n",
    "print(hello())"
   ]
  },
  {
   "cell_type": "markdown",
   "id": "b005f081",
   "metadata": {},
   "source": [
    "So what happened?\n",
    "1.\twhen `def hello()` was run, a function called `hello` was created\n",
    "2.\tWhen the line `print(hello())` was run, the function `hello` was executed (The code inside it was run)\n",
    "3.\tThe function `hello` printed `\"hello\"` onscreen, then returned the number `1234` back to the main program\n",
    "4.\tThe main program now sees the line as `print(\"1234\")` and as a result, printed `1234`"
   ]
  },
  {
   "cell_type": "markdown",
   "id": "da0be899",
   "metadata": {},
   "source": [
    "That accounts for everything that happened. Remember, that the main program had NO IDEA that the words `hello` were printed onscreen. All it saw was `1234`, and printed that onscreen."
   ]
  },
  {
   "cell_type": "markdown",
   "id": "769858cc",
   "metadata": {},
   "source": [
    "### Passing Parameters to functions\n",
    "There is one more thing we will cover in this (monstrously huge) lesson - passing parameters to a function. Think back to how we defined functions:<br>\n",
    "```\n",
    "def function_name(parameter_1,parameter_2):\n",
    "    {this is the code in the function}\n",
    "    {more code}\n",
    "    {more code}\n",
    "    return {value (e.g. text or number) to return to the main program}\n",
    "```\n",
    "\n",
    "Where `parameter_1` and `parameter_2` are (between the parentheses), you put the names of variables that you want to put the parameters into. Put as many as you need, just have them seperated by commas. When you run a function, the first value you put inside the parentheses would go into the variable where `parameter_1` is. The second one (after the first comma) would go to the variable where `parameter_2` is. This goes on for however many parameters there are in the function (from zero, to the sky). For example:"
   ]
  },
  {
   "cell_type": "code",
   "execution_count": null,
   "id": "ebf42018",
   "metadata": {},
   "outputs": [],
   "source": [
    "def funnyfunction(first_word,second_word,third_word):\n",
    "    print(\"The word created is: \" + first_word + second_word + third_word)\n",
    "    return first_word + second_word + third_word"
   ]
  },
  {
   "cell_type": "markdown",
   "id": "6aaf19c6",
   "metadata": {},
   "source": [
    "When you run the function above, you would type in something like this: `funnyfunction(\"meat\",\"eater\",\"man\")`. The first value (that is, \"meat\") would be put into the variable called first_word. The second value inside the brackets (that is, \"eater\") would be put into the variable called second_word, and so on. This is how values are passed from the main program to functions - inside the parentheses, after the function name.\n",
    "\n",
    "Add a new line to the script above that invokes the function."
   ]
  },
  {
   "cell_type": "markdown",
   "id": "09e26ec7",
   "metadata": {},
   "source": [
    "## Q2. Calculator Again\n",
    "Now, let's go back and re-write the calculator program, with functions.\n",
    "\n",
    "To design - First we will define all the functions we are going to use with the `def` operator. Then we will have the main program, with all that messy code replaced with nice, neat functions. This will make it so much easier to look at again in the future."
   ]
  },
  {
   "cell_type": "code",
   "execution_count": null,
   "id": "f30fe8c5",
   "metadata": {},
   "outputs": [],
   "source": [
    "# calculator program\n",
    "\n",
    "# NO CODE IS REALLY RUN HERE, IT IS ONLY TELLING US WHAT WE WILL DO LATER\n",
    "# Here we will define our functions\n",
    "# this prints the main menu, and prompts for a choice\n",
    "def menu():\n",
    "    #print what options you have\n",
    "    print(\"Welcome to calculator.py\")\n",
    "    print(\"your options are:\")\n",
    "    print(\" \")\n",
    "    print(\"1. Addition\")\n",
    "    print(\"2. Subtraction\")\n",
    "    print(\"3. Multiplication\")\n",
    "    print(\"4. Division\")\n",
    "    print(\"5. Quit calculator.py\")\n",
    "    print(\" \")\n",
    "    return eval(input(\"Choose your option: \"))\n",
    "    \n",
    "########### FILL IN CODE HERE ############\n",
    "# define functions: add, sub, mul, div that add, subtract, multiply, and divide two numbers and print them\n",
    "    \n",
    "##############################################\n",
    "loop = 1\n",
    "choice = 0\n",
    "while loop == 1:\n",
    "    choice = menu()\n",
    "    if choice == 1:\n",
    "        add(eval(input(\"Add this: \")),eval(input(\"to this: \")))\n",
    "    elif choice == 2:\n",
    "        sub(eval(input(\"Subtract this: \")),eval(input(\"from this: \")))\n",
    "    elif choice == 3:\n",
    "        mul(eval(input(\"Multiply this: \")),eval(input(\"by this: \")))\n",
    "    elif choice == 4:\n",
    "        div(eval(input(\"Divide this: \")),eval(input(\"by this: \")))\n",
    "    elif choice == 5:\n",
    "        loop = 0\n",
    "\n",
    "print(\"Thank you for using calculator.py!\")\n",
    "\n"
   ]
  },
  {
   "cell_type": "markdown",
   "id": "ea4bef73",
   "metadata": {},
   "source": [
    "The initial program had 34 lines of code. The new one actually had 35 lines of code! It is a little longer, but if you look at it the right way, it is actually simpler.\n",
    "\n",
    "You defined all your functions at the top. This really isn't part of your main program - they are just lots of little programs that you will call upon later. You could even re-use these in another program if you needed them, and didn't want to tell the computer how to add and subtract again.\n",
    "\n",
    "If you look at the main part of the program (between the line `loop = 1` and `print(\"Thank you for...\")`), it is only 15 lines of code. That means that if you wanted to write this program differently, you would only have to write 15 or so lines, as opposed to the 34 lines you would normally have to without functions."
   ]
  },
  {
   "cell_type": "markdown",
   "id": "88214a10",
   "metadata": {},
   "source": [
    "## Q3. The Ugliest Plot Ever?\n",
    "In this exercise, you’ll have the creative freedom to make the **ugliest** plot imaginable! Why, you ask? Well, the idea is to learn how flexible Matplotlib is when it comes to customizing plots. By intentionally making things \"wrong\"—such as using strange colors, bizarre markers, and terrible axis labels—you'll get hands-on experience with all the ways you can modify elements of a plot.\n",
    "\n",
    "### Objective\n",
    "Your goal is to experiment with as many **plot customizations** as possible, while making sure the plot is not just bad but **spectacularly ugly**. Don't be afraid to go wild with colors, fonts, and markers—think of it as an artistic challenge!\n",
    "\n",
    "### What You Will Learn\n",
    "- **Plot customization**: Change things like colors, line styles, markers, and fonts.\n",
    "- **Axes and labels**: Modify the plot axes, add ridiculous labels, and customize the ticks.\n",
    "- **Title and legends**: Make the title extra big, weirdly formatted, or even nonsensical.\n",
    "- **Markers and lines**: Experiment with different markers and line styles to make them stand out (or clash horribly).\n",
    "\n",
    "By the end of this exercise, you will be a Matplotlib customization expert—having tested the limits of what Matplotlib can do, while having a blast with it!\n",
    "\n",
    "### Steps to Make the Ugliest Plot\n",
    "\n",
    "1. **Plot some random data**: Use any simple dataset (or generate one using `np.random()` to begin with). The data itself doesn’t matter—what matters is how you present it. You can check out how to plot data with Matplotlib [here](https://matplotlib.org/stable/api/pyplot.html#matplotlib.pyplot.plot).\n",
    "\n",
    "2. **Change the colors**: Pick the most jarring, clashing colors you can imagine for your plot lines, points, and background. Explore [color options in Matplotlib](https://matplotlib.org/stable/tutorials/colors/colors.html).\n",
    "\n",
    "3. **Customize the markers**: Use strange markers like stars (`*`), hexagons (`h`), or diamonds (`D`). Play with the marker sizes to make some too big and others tiny. See [marker styles here](https://matplotlib.org/stable/api/markers_api.html).\n",
    "\n",
    "4. **Add a bizarre title**: Go overboard with a ridiculously large font size, strange fonts, or even emojis if you want! The goal is to make it stand out (in the worst possible way). Read more about [adding titles and modifying fonts](https://matplotlib.org/stable/tutorials/text/text_props.html).\n",
    "\n",
    "5. **Mess with the axes**: Change the axis labels to something silly or irrelevant. You can also rotate them at weird angles or use an enormous font size. Learn more about customizing [axes labels](https://matplotlib.org/stable/api/_as_gen/matplotlib.pyplot.xlabel.html) and [ticks](https://matplotlib.org/stable/api/ticker_api.html).\n",
    "\n",
    "6. **Adjust the ticks**: Experiment by adding too many ticks, spacing them unevenly, or using strange colors and sizes for the tick labels. Read about [tick customization](https://matplotlib.org/stable/gallery/ticks_and_spines/tick-locators.html).\n",
    "\n",
    "7. **Add a confusing legend**: Make a legend that doesn’t quite fit the data or is formatted in a way that makes it hard to read. Check out the [legend documentation](https://matplotlib.org/stable/api/legend_api.html) for ways to customize.\n",
    "\n",
    "8. **Finally, break symmetry**: If you feel like adding more chaos, consider plotting multiple things with mismatched scales or different line styles that just don’t fit together. Find advanced plot customizations [here](https://matplotlib.org/stable/tutorials/index.html).\n"
   ]
  },
  {
   "cell_type": "markdown",
   "id": "7e4f2fb8",
   "metadata": {},
   "source": [
    "#### Step 1: Create a Simple Plot"
   ]
  },
  {
   "cell_type": "code",
   "execution_count": 3,
   "id": "afb44c6c",
   "metadata": {},
   "outputs": [
    {
     "data": {
      "image/png": "[encoded data removed]",
      "text/plain": [
       "<Figure size 640x480 with 1 Axes>"
      ]
     },
     "metadata": {},
     "output_type": "display_data"
    }
   ],
   "source": [
    "import numpy as np\n",
    "import matplotlib.pyplot as plt\n",
    "\n",
    "# Create data\n",
    "x = np.linspace(0, 10, 100)\n",
    "y = np.sin(x)\n",
    "\n",
    "# Simple plot\n",
    "plt.plot(x, y)\n",
    "plt.show()"
   ]
  },
  {
   "cell_type": "code",
   "execution_count": null,
   "id": "14029aab",
   "metadata": {},
   "outputs": [],
   "source": [
    "##### Make a simple plot of your choice, it could be any function that you find interesting"
   ]
  },
  {
   "cell_type": "markdown",
   "id": "1e40ea4b",
   "metadata": {},
   "source": [
    "#### Step 2: Make the Plot as Ugly as Possible!\n",
    "Now that you have your basic plot, your job is to make it as ugly as possible. You can modify **any aspect** of the plot, including:"
   ]
  },
  {
   "cell_type": "markdown",
   "id": "b4586ce5",
   "metadata": {},
   "source": [
    "- Change the line style, thickness, and color to something absurd.\n",
    "- Modify the axis labels, titles, or ticks.\n",
    "- Play around with fonts, sizes, and colors of text elements.\n",
    "- Add random gridlines or background colors.\n",
    "- Make the markers large and distracting.\n",
    "- Add unrelated annotations.\n",
    "\n",
    "Make sure to checkout the [Matplotlib documentation](https://matplotlib.org/stable/users/explain/quick_start.html) to learn more about plots and how you can tweak them!"
   ]
  },
  {
   "cell_type": "code",
   "execution_count": null,
   "id": "3e6bcd77",
   "metadata": {},
   "outputs": [],
   "source": [
    "# Make it \"ugly\"\n",
    "plt.plot(x, y, color='lime', linestyle='--', linewidth=5, marker='x', markersize=15)\n",
    "plt.title('Ugliest Plot Ever', fontsize=25, color='red', fontweight='bold', fontstyle='italic')\n",
    "plt.xlabel('X-axis (terribly labeled)', fontsize=20, color='blue', rotation=45)\n",
    "plt.ylabel('Y-axis (why is it here?)', fontsize=20, color='purple', rotation=-45)\n",
    "plt.grid(True, color='pink', linewidth=3, linestyle='-.')\n",
    "plt.gca().set_facecolor('yellow')  # Yellow background\n",
    "plt.xticks(np.arange(0, 11, step=1), fontsize=15, color='green', rotation=90)\n",
    "plt.yticks(np.arange(-1, 2, step=0.5), fontsize=15, color='orange')\n",
    "plt.show()"
   ]
  },
  {
   "cell_type": "code",
   "execution_count": null,
   "id": "5264ac81",
   "metadata": {},
   "outputs": [],
   "source": [
    "##### Build your ugly plot here ---- don't be shy :)"
   ]
  },
  {
   "cell_type": "markdown",
   "id": "1f2b43c0",
   "metadata": {},
   "source": [
    "## Q4. Unleash Your Inner Van Gogh: NumPy Art – Generate Random \"Masterpieces\"\n",
    "\n",
    "In this exercise, you’ll combine programming with creativity to transform a grid of random numbers into **abstract art** using NumPy. By manipulating numbers as if they were \"pixels,\" you’ll be able to create fun and interesting visual patterns. The goal is to experiment and push the boundaries of what you can do with **NumPy**, turning randomness into visual art!\n",
    "\n",
    "### Objective:\n",
    "Your goal is to generate a random grid and then manipulate the numbers using NumPy functions to turn it into something visually exciting. You’ll experiment with basic grid transformations like rotating or flipping sections and applying mathematical operations to the data.\n",
    "\n",
    "### What You Will Learn:\n",
    "- How to create a **grid of random numbers** with NumPy.\n",
    "- How to display the grid as an image using Matplotlib.\n",
    "- How to manipulate different parts of the grid to make it more abstract.\n",
    "- How to apply mathematical functions to transform the grid's \"pixels\" and create patterns.\n",
    "\n",
    "By the end of this exercise, you will have a better understanding of how NumPy can be used to modify data visually and creatively!\n",
    "\n",
    "---\n",
    "\n",
    "### Step 1: Create a Random Grid\n",
    "\n",
    "Let’s start by generating a random grid of numbers using NumPy. These random values will act as the \"pixels\" of your image."
   ]
  },
  {
   "cell_type": "code",
   "execution_count": 4,
   "id": "16c43932",
   "metadata": {},
   "outputs": [
    {
     "data": {
      "image/png": "[encoded data removed]",
      "text/plain": [
       "<Figure size 640x480 with 1 Axes>"
      ]
     },
     "metadata": {},
     "output_type": "display_data"
    }
   ],
   "source": [
    "import numpy as np\n",
    "import matplotlib.pyplot as plt\n",
    "\n",
    "# Create a 10x10 grid of random numbers\n",
    "art_grid = np.random.rand(10, 10)\n",
    "\n",
    "# Display the grid as an image\n",
    "plt.imshow(art_grid, cmap='gray')  # We'll start with a grayscale plot\n",
    "plt.title('Random NumPy Art – The Beginning')\n",
    "plt.show()"
   ]
  },
  {
   "cell_type": "markdown",
   "id": "af38952e",
   "metadata": {},
   "source": [
    "---\n",
    "\n",
    "### Step 2: Distort the \"Canvas\" Using NumPy Functions\n",
    "\n",
    "Now, use NumPy to manipulate the grid and make your abstract art more interesting. You can:\n",
    "\n",
    "- **Change the values in certain areas** of the grid.\n",
    "    - You can select parts of the grid and manipulate those numbers to create patterns. Example:\n",
    "    ```python\n",
    "    art_grid[2:5, 2:5] = 1  # Fill a small section of the grid with the value 1\n",
    "    ```\n",
    "\n",
    "- **Apply mathematical functions** like sine, cosine, or logarithms to warp the image.\n",
    "    - These transformations can create unique patterns or distortions in your image. Try applying functions like `np.sin()`, `np.cos()`, or `np.log()`. [Read more about NumPy's mathematical functions](https://numpy.org/doc/stable/reference/routines.math.html).\n",
    "\n",
    "    ```python\n",
    "    art_grid = np.sin(art_grid * np.pi)  # Apply a sine function to the grid\n",
    "    ```\n",
    "\n",
    "- **Flip or rotate** parts of the grid.\n",
    "    - Use functions like `np.flip()` or `np.rot90()` to create symmetry or rotation effects. [Learn more about array manipulation functions](https://numpy.org/doc/stable/reference/routines.array-manipulation.html).\n",
    "\n",
    "    ```python\n",
    "    art_grid = np.flip(art_grid, axis=0)  # Flip the grid vertically\n",
    "    ```"
   ]
  },
  {
   "cell_type": "code",
   "execution_count": 6,
   "id": "2d30d068",
   "metadata": {},
   "outputs": [
    {
     "data": {
      "image/png": "[encoded data removed]",
      "text/plain": [
       "<Figure size 640x480 with 1 Axes>"
      ]
     },
     "metadata": {},
     "output_type": "display_data"
    }
   ],
   "source": [
    "############## EXAMPLE CODE; REPLACE WITH YOUR OWN ##############\n",
    "\n",
    "# Invert some values \n",
    "art_grid[0:5, 0:5] = 1 - art_grid[0:5, 0:5]  # Invert top-left corner\n",
    "\n",
    "# Apply a sine transformation\n",
    "art_grid = np.sin(art_grid * np.pi)  # Sine wave distortion\n",
    "\n",
    "# Flip the grid horizontally\n",
    "art_grid = np.fliplr(art_grid)  # Flip the grid left to right\n",
    "\n",
    "# Show the result\n",
    "plt.imshow(art_grid, cmap='inferno')\n",
    "plt.title('NumPy Art - First Distortion')\n",
    "plt.show()"
   ]
  },
  {
   "cell_type": "markdown",
   "id": "626ae1ec",
   "metadata": {},
   "source": [
    "---\n",
    "\n",
    "### Step 3: Add More Creative Touches!\n",
    "\n",
    "Now that you've experimented with basic manipulations, it's time to unleash your creativity and explore more advanced techniques. Here are some ideas to try:\n",
    "\n",
    "1. **Colorize Your Artwork**: \n",
    "    - Change the color map (`cmap`) from grayscale to something more vibrant. Experiment with Matplotlib's color maps. [Check out the list of available color maps here](https://matplotlib.org/stable/tutorials/colors/colormaps.html).\n",
    "    ```python\n",
    "    plt.imshow(art_grid, cmap='inferno')  # Use a fiery color palette\n",
    "    ```\n",
    "\n",
    "2. **Create Geometric Shapes**:\n",
    "    - Draw shapes by setting certain areas of the grid to specific values. Try making diagonal lines or checkerboard patterns:\n",
    "    ```python\n",
    "    art_grid[::2, ::2] = 1  # Create a checkerboard pattern\n",
    "    ```\n",
    "\n",
    "3. **Apply Noise or Blurring**:\n",
    "    - Add random noise or apply a blur to your grid to give it a different texture. You can generate random noise using `np.random.normal()` to perturb the grid’s values. [Read more about random number generation](https://numpy.org/doc/stable/reference/random/generator.html).\n",
    "    ```python\n",
    "    noise = np.random.normal(0, 0.1, art_grid.shape)\n",
    "    art_grid = art_grid + noise  # Add random noise to the grid\n",
    "    ```\n",
    "\n",
    "4. **Rotate Sections Independently**:\n",
    "    - Rotate specific sections of the grid for a kaleidoscope-like effect. You can slice the grid and apply `np.rot90()` on each slice.\n",
    "    ```python\n",
    "    art_grid[0:5, 0:5] = np.rot90(art_grid[0:5, 0:5])  # Rotate just the top-left section\n",
    "    ```\n",
    "\n",
    "5. **Play with Exponents**:\n",
    "    - You can exponentially increase or decrease the values in the grid to create bright spots or dark regions. Experiment with raising the values in the grid to different powers:\n",
    "    ```python\n",
    "    art_grid = np.power(art_grid, 2)  # Squaring the values for a new effect\n",
    "    ```\n",
    "\n",
    "---"
   ]
  },
  {
   "cell_type": "code",
   "execution_count": 7,
   "id": "0f084bfe",
   "metadata": {},
   "outputs": [
    {
     "data": {
      "image/png": "[encoded data removed]",
      "text/plain": [
       "<Figure size 640x480 with 1 Axes>"
      ]
     },
     "metadata": {},
     "output_type": "display_data"
    }
   ],
   "source": [
    "############## EXAMPLE CODE; REPLACE WITH YOUR OWN ##############\n",
    "# Create stripes\n",
    "art_grid[::2, :] = 0.5  # Every other row set to 0.5\n",
    "\n",
    "# Create checkerboard pattern\n",
    "art_grid[::2, ::2] = 1  # Every other element in both rows and columns\n",
    "art_grid[1::2, 1::2] = 0  # Opposite pattern\n",
    "\n",
    "# Add noise\n",
    "noise = np.random.rand(10, 10) * 0.2  # Small random noise\n",
    "art_grid += noise\n",
    "\n",
    "plt.imshow(art_grid, cmap='plasma')\n",
    "plt.title('NumPy Art - Final Masterpiece')\n",
    "plt.show()"
   ]
  },
  {
   "cell_type": "markdown",
   "id": "4fb921ad",
   "metadata": {},
   "source": [
    "#### Pro Tips for Advanced Fun:\n",
    "\n",
    "- **Fractal-like Patterns**: Use recursive slicing and apply different transformations to subgrids. This can create fractal-like repeating patterns.\n",
    "  \n",
    "- **Combine Multiple Grids**: Combine two or more grids with operations like addition, multiplication, or stacking to overlay patterns or merge images.\n",
    "\n",
    "- **Experiment with Transforms**: Try applying the Fast Fourier Transform (FFT) to manipulate the image in the frequency domain. Learn more about the [FFT function](https://numpy.org/doc/stable/reference/routines.fft.html).\n",
    "\n",
    "    ```python\n",
    "    fft_grid = np.fft.fftshift(np.fft.fft2(art_grid))  # Apply FFT for frequency manipulation\n",
    "    plt.imshow(np.abs(fft_grid), cmap='plasma')\n",
    "    ```\n",
    "\n",
    "- **Save Your Artwork**: You can save your artwork as an image file using `plt.savefig()` and share it with your friends. [Learn more about saving plots](https://matplotlib.org/stable/api/_as_gen/matplotlib.pyplot.savefig.html).\n",
    "    ```python\n",
    "    plt.savefig('my_numpy_art.png')\n",
    "    ```\n",
    "\n",
    "---"
   ]
  }
 ],
 "metadata": {
  "kernelspec": {
   "display_name": "Python 3",
   "language": "python",
   "name": "python3"
  },
  "language_info": {
   "codemirror_mode": {
    "name": "ipython",
    "version": 3
   },
   "file_extension": ".py",
   "mimetype": "text/x-python",
   "name": "python",
   "nbconvert_exporter": "python",
   "pygments_lexer": "ipython3",
   "version": "3.9.6"
  }
 },
 "nbformat": 4,
 "nbformat_minor": 5
}
